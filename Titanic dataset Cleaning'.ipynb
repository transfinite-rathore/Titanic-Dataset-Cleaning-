{
 "cells": [
  {
   "cell_type": "code",
   "execution_count": 1,
   "id": "bb9f37ad-13e9-420e-a78f-2def871527da",
   "metadata": {},
   "outputs": [],
   "source": [
    "import numpy as np\n",
    "import pandas as pd\n",
    "import matplotlib.pyplot as plt"
   ]
  },
  {
   "cell_type": "code",
   "execution_count": 2,
   "id": "f30524d1-2af4-4ce3-8ea8-6279f6ccbf22",
   "metadata": {},
   "outputs": [],
   "source": [
    "from sklearn.linear_model import LogisticRegression"
   ]
  },
  {
   "cell_type": "code",
   "execution_count": 3,
   "id": "a7734c04-a62d-42c9-a167-004cba877b76",
   "metadata": {},
   "outputs": [],
   "source": [
    "from sklearn.model_selection import train_test_split"
   ]
  },
  {
   "cell_type": "code",
   "execution_count": 165,
   "id": "cbdf0853-d8f5-44dc-b079-b97314f9366f",
   "metadata": {},
   "outputs": [],
   "source": [
    "data=pd.read_csv(\"Train.csv\")"
   ]
  },
  {
   "cell_type": "code",
   "execution_count": 166,
   "id": "6e01916d-e31e-4397-a9b1-a0f04c813a35",
   "metadata": {},
   "outputs": [
    {
     "data": {
      "text/html": [
       "<div>\n",
       "<style scoped>\n",
       "    .dataframe tbody tr th:only-of-type {\n",
       "        vertical-align: middle;\n",
       "    }\n",
       "\n",
       "    .dataframe tbody tr th {\n",
       "        vertical-align: top;\n",
       "    }\n",
       "\n",
       "    .dataframe thead th {\n",
       "        text-align: right;\n",
       "    }\n",
       "</style>\n",
       "<table border=\"1\" class=\"dataframe\">\n",
       "  <thead>\n",
       "    <tr style=\"text-align: right;\">\n",
       "      <th></th>\n",
       "      <th>PassengerId</th>\n",
       "      <th>Survived</th>\n",
       "      <th>Pclass</th>\n",
       "      <th>Name</th>\n",
       "      <th>Sex</th>\n",
       "      <th>Age</th>\n",
       "      <th>SibSp</th>\n",
       "      <th>Parch</th>\n",
       "      <th>Ticket</th>\n",
       "      <th>Fare</th>\n",
       "      <th>Cabin</th>\n",
       "      <th>Embarked</th>\n",
       "    </tr>\n",
       "  </thead>\n",
       "  <tbody>\n",
       "    <tr>\n",
       "      <th>0</th>\n",
       "      <td>1</td>\n",
       "      <td>0</td>\n",
       "      <td>3</td>\n",
       "      <td>Braund, Mr. Owen Harris</td>\n",
       "      <td>male</td>\n",
       "      <td>22.0</td>\n",
       "      <td>1</td>\n",
       "      <td>0</td>\n",
       "      <td>A/5 21171</td>\n",
       "      <td>7.2500</td>\n",
       "      <td>NaN</td>\n",
       "      <td>S</td>\n",
       "    </tr>\n",
       "    <tr>\n",
       "      <th>1</th>\n",
       "      <td>2</td>\n",
       "      <td>1</td>\n",
       "      <td>1</td>\n",
       "      <td>Cumings, Mrs. John Bradley (Florence Briggs Th...</td>\n",
       "      <td>female</td>\n",
       "      <td>38.0</td>\n",
       "      <td>1</td>\n",
       "      <td>0</td>\n",
       "      <td>PC 17599</td>\n",
       "      <td>71.2833</td>\n",
       "      <td>C85</td>\n",
       "      <td>C</td>\n",
       "    </tr>\n",
       "    <tr>\n",
       "      <th>2</th>\n",
       "      <td>3</td>\n",
       "      <td>1</td>\n",
       "      <td>3</td>\n",
       "      <td>Heikkinen, Miss. Laina</td>\n",
       "      <td>female</td>\n",
       "      <td>26.0</td>\n",
       "      <td>0</td>\n",
       "      <td>0</td>\n",
       "      <td>STON/O2. 3101282</td>\n",
       "      <td>7.9250</td>\n",
       "      <td>NaN</td>\n",
       "      <td>S</td>\n",
       "    </tr>\n",
       "    <tr>\n",
       "      <th>3</th>\n",
       "      <td>4</td>\n",
       "      <td>1</td>\n",
       "      <td>1</td>\n",
       "      <td>Futrelle, Mrs. Jacques Heath (Lily May Peel)</td>\n",
       "      <td>female</td>\n",
       "      <td>35.0</td>\n",
       "      <td>1</td>\n",
       "      <td>0</td>\n",
       "      <td>113803</td>\n",
       "      <td>53.1000</td>\n",
       "      <td>C123</td>\n",
       "      <td>S</td>\n",
       "    </tr>\n",
       "    <tr>\n",
       "      <th>4</th>\n",
       "      <td>5</td>\n",
       "      <td>0</td>\n",
       "      <td>3</td>\n",
       "      <td>Allen, Mr. William Henry</td>\n",
       "      <td>male</td>\n",
       "      <td>35.0</td>\n",
       "      <td>0</td>\n",
       "      <td>0</td>\n",
       "      <td>373450</td>\n",
       "      <td>8.0500</td>\n",
       "      <td>NaN</td>\n",
       "      <td>S</td>\n",
       "    </tr>\n",
       "  </tbody>\n",
       "</table>\n",
       "</div>"
      ],
      "text/plain": [
       "   PassengerId  Survived  Pclass  \\\n",
       "0            1         0       3   \n",
       "1            2         1       1   \n",
       "2            3         1       3   \n",
       "3            4         1       1   \n",
       "4            5         0       3   \n",
       "\n",
       "                                                Name     Sex   Age  SibSp  \\\n",
       "0                            Braund, Mr. Owen Harris    male  22.0      1   \n",
       "1  Cumings, Mrs. John Bradley (Florence Briggs Th...  female  38.0      1   \n",
       "2                             Heikkinen, Miss. Laina  female  26.0      0   \n",
       "3       Futrelle, Mrs. Jacques Heath (Lily May Peel)  female  35.0      1   \n",
       "4                           Allen, Mr. William Henry    male  35.0      0   \n",
       "\n",
       "   Parch            Ticket     Fare Cabin Embarked  \n",
       "0      0         A/5 21171   7.2500   NaN        S  \n",
       "1      0          PC 17599  71.2833   C85        C  \n",
       "2      0  STON/O2. 3101282   7.9250   NaN        S  \n",
       "3      0            113803  53.1000  C123        S  \n",
       "4      0            373450   8.0500   NaN        S  "
      ]
     },
     "execution_count": 166,
     "metadata": {},
     "output_type": "execute_result"
    }
   ],
   "source": [
    "data.head()"
   ]
  },
  {
   "cell_type": "code",
   "execution_count": 167,
   "id": "4db562ea-304c-48a0-bfd9-5c5a07e5a042",
   "metadata": {},
   "outputs": [
    {
     "data": {
      "text/plain": [
       "S    644\n",
       "C    168\n",
       "Q     77\n",
       "Name: Embarked, dtype: int64"
      ]
     },
     "execution_count": 167,
     "metadata": {},
     "output_type": "execute_result"
    }
   ],
   "source": [
    "data.Embarked.value_counts()"
   ]
  },
  {
   "cell_type": "code",
   "execution_count": 168,
   "id": "660fb34a-ee93-4595-96a1-985637fff8e1",
   "metadata": {},
   "outputs": [],
   "source": [
    "data[\"Embarked\"].fillna(\"S\",inplace=True)"
   ]
  },
  {
   "cell_type": "code",
   "execution_count": null,
   "id": "8c98e655-5fd1-47fc-9f32-c7fe6a1db08f",
   "metadata": {},
   "outputs": [],
   "source": []
  },
  {
   "cell_type": "code",
   "execution_count": 159,
   "id": "da5b61e9-db04-44bf-a8d9-41133a815453",
   "metadata": {},
   "outputs": [
    {
     "name": "stdout",
     "output_type": "stream",
     "text": [
      "<class 'pandas.core.frame.DataFrame'>\n",
      "RangeIndex: 891 entries, 0 to 890\n",
      "Data columns (total 12 columns):\n",
      " #   Column       Non-Null Count  Dtype  \n",
      "---  ------       --------------  -----  \n",
      " 0   PassengerId  891 non-null    int64  \n",
      " 1   Survived     891 non-null    int64  \n",
      " 2   Pclass       891 non-null    int64  \n",
      " 3   Name         891 non-null    object \n",
      " 4   Sex          891 non-null    object \n",
      " 5   Age          714 non-null    float64\n",
      " 6   SibSp        891 non-null    int64  \n",
      " 7   Parch        891 non-null    int64  \n",
      " 8   Ticket       891 non-null    object \n",
      " 9   Fare         891 non-null    float64\n",
      " 10  Cabin        204 non-null    object \n",
      " 11  Embarked     891 non-null    object \n",
      "dtypes: float64(2), int64(5), object(5)\n",
      "memory usage: 83.7+ KB\n"
     ]
    }
   ],
   "source": [
    "data.info()"
   ]
  },
  {
   "cell_type": "code",
   "execution_count": 169,
   "id": "66117137-7ce1-4e72-86d5-64886ecc78c1",
   "metadata": {},
   "outputs": [],
   "source": [
    "target=data[\"Survived\"]\n",
    "features=data.drop(\"Survived\",axis=1)"
   ]
  },
  {
   "cell_type": "code",
   "execution_count": 183,
   "id": "a0b9eac2-37d1-4119-98e3-986ec2aed3f7",
   "metadata": {},
   "outputs": [
    {
     "name": "stdout",
     "output_type": "stream",
     "text": [
      "<class 'pandas.core.frame.DataFrame'>\n",
      "RangeIndex: 891 entries, 0 to 890\n",
      "Data columns (total 11 columns):\n",
      " #   Column       Non-Null Count  Dtype  \n",
      "---  ------       --------------  -----  \n",
      " 0   PassengerId  891 non-null    int64  \n",
      " 1   Pclass       891 non-null    int64  \n",
      " 2   Name         891 non-null    object \n",
      " 3   Sex          891 non-null    object \n",
      " 4   Age          891 non-null    float64\n",
      " 5   SibSp        891 non-null    int64  \n",
      " 6   Parch        891 non-null    int64  \n",
      " 7   Ticket       891 non-null    object \n",
      " 8   Fare         891 non-null    float64\n",
      " 9   Cabin        204 non-null    object \n",
      " 10  Embarked     891 non-null    object \n",
      "dtypes: float64(2), int64(4), object(5)\n",
      "memory usage: 76.7+ KB\n"
     ]
    }
   ],
   "source": [
    "features.info()"
   ]
  },
  {
   "cell_type": "code",
   "execution_count": 162,
   "id": "f05c2e59-161d-4fd0-9c0e-af2aec67c34e",
   "metadata": {},
   "outputs": [],
   "source": [
    "k=features[\"Age\"]"
   ]
  },
  {
   "cell_type": "code",
   "execution_count": 173,
   "id": "4ea43073-01fd-4f2f-b748-9ae155405d77",
   "metadata": {},
   "outputs": [],
   "source": [
    "t=np.mean(k)"
   ]
  },
  {
   "cell_type": "code",
   "execution_count": 179,
   "id": "79291f52-f847-40a9-9500-c442cca49b0b",
   "metadata": {},
   "outputs": [],
   "source": [
    "tm=features[\"Age\"].fillna(value=t,axis=0,inplace=True)"
   ]
  },
  {
   "cell_type": "code",
   "execution_count": null,
   "id": "cca51e21-a107-4147-8935-b2d0cc30968c",
   "metadata": {},
   "outputs": [],
   "source": []
  },
  {
   "cell_type": "code",
   "execution_count": null,
   "id": "2aba9b70-26ab-473f-85e9-7c8b80beaf4e",
   "metadata": {},
   "outputs": [],
   "source": []
  },
  {
   "cell_type": "code",
   "execution_count": 184,
   "id": "1455c015-2eee-4ad6-bd1e-952ee907936a",
   "metadata": {},
   "outputs": [],
   "source": [
    "features.drop(\"Cabin\",axis=1,inplace=True)"
   ]
  },
  {
   "cell_type": "code",
   "execution_count": 185,
   "id": "e31f6dcf-218e-4687-b4ed-bedd6fce9146",
   "metadata": {},
   "outputs": [
    {
     "data": {
      "text/plain": [
       "891"
      ]
     },
     "execution_count": 185,
     "metadata": {},
     "output_type": "execute_result"
    }
   ],
   "source": [
    "len(features.PassengerId.unique())"
   ]
  },
  {
   "cell_type": "code",
   "execution_count": 186,
   "id": "36a04467-2812-40ae-9a95-bd3d7c709864",
   "metadata": {},
   "outputs": [],
   "source": [
    "uniq={}\n",
    "\n",
    "for i in features.columns:\n",
    "    uniq[i]=len(features[i].unique())"
   ]
  },
  {
   "cell_type": "code",
   "execution_count": 187,
   "id": "7b592001-1df1-4211-8621-949c7920e69d",
   "metadata": {},
   "outputs": [
    {
     "data": {
      "text/plain": [
       "{'PassengerId': 891,\n",
       " 'Pclass': 3,\n",
       " 'Name': 891,\n",
       " 'Sex': 2,\n",
       " 'Age': 89,\n",
       " 'SibSp': 7,\n",
       " 'Parch': 7,\n",
       " 'Ticket': 681,\n",
       " 'Fare': 248,\n",
       " 'Embarked': 3}"
      ]
     },
     "execution_count": 187,
     "metadata": {},
     "output_type": "execute_result"
    }
   ],
   "source": [
    "uniq"
   ]
  },
  {
   "cell_type": "markdown",
   "id": "a4dc59d6-7808-4546-957b-933f43f9b5af",
   "metadata": {},
   "source": [
    "#### Passenger ID & Name have 418 unique value that it increases variance of model"
   ]
  },
  {
   "cell_type": "code",
   "execution_count": 188,
   "id": "70bf8b4c-4ec5-4d51-818f-437af4051c9f",
   "metadata": {},
   "outputs": [],
   "source": [
    "features.drop([\"PassengerId\",\"Name\"],axis=1,inplace=True)"
   ]
  },
  {
   "cell_type": "code",
   "execution_count": 189,
   "id": "00f32725-8ee3-43a1-bf64-f50ad67321bb",
   "metadata": {},
   "outputs": [
    {
     "name": "stdout",
     "output_type": "stream",
     "text": [
      "<class 'pandas.core.frame.DataFrame'>\n",
      "RangeIndex: 891 entries, 0 to 890\n",
      "Data columns (total 8 columns):\n",
      " #   Column    Non-Null Count  Dtype  \n",
      "---  ------    --------------  -----  \n",
      " 0   Pclass    891 non-null    int64  \n",
      " 1   Sex       891 non-null    object \n",
      " 2   Age       891 non-null    float64\n",
      " 3   SibSp     891 non-null    int64  \n",
      " 4   Parch     891 non-null    int64  \n",
      " 5   Ticket    891 non-null    object \n",
      " 6   Fare      891 non-null    float64\n",
      " 7   Embarked  891 non-null    object \n",
      "dtypes: float64(2), int64(3), object(3)\n",
      "memory usage: 55.8+ KB\n"
     ]
    }
   ],
   "source": [
    "features.info()"
   ]
  },
  {
   "cell_type": "code",
   "execution_count": 24,
   "id": "b7e7375b-e67d-40ca-b6d7-bf28cd9c5450",
   "metadata": {},
   "outputs": [],
   "source": [
    "lr=LogisticRegression()"
   ]
  },
  {
   "cell_type": "code",
   "execution_count": 190,
   "id": "8444fadd-4fa5-4ceb-a886-94023d5b5573",
   "metadata": {},
   "outputs": [],
   "source": [
    "features[\"relative\"]=features[\"SibSp\"]+features[\"Parch\"]"
   ]
  },
  {
   "cell_type": "code",
   "execution_count": 191,
   "id": "516b45fc-06cc-48f8-8376-fe795d6c2c86",
   "metadata": {},
   "outputs": [],
   "source": [
    "from sklearn.preprocessing import StandardScaler"
   ]
  },
  {
   "cell_type": "code",
   "execution_count": 192,
   "id": "f56cf90a-c29f-4de4-b7a3-6a63433f3d92",
   "metadata": {},
   "outputs": [],
   "source": [
    "def alone(x):\n",
    "    if(x>0):\n",
    "        return 0\n",
    "    else:\n",
    "        return 1"
   ]
  },
  {
   "cell_type": "code",
   "execution_count": 193,
   "id": "8bcba8a3-1650-41a9-a1e7-92f8cc9207ce",
   "metadata": {},
   "outputs": [],
   "source": [
    "features[\"Travelling Alone\"]=features[\"relative\"].apply(alone)"
   ]
  },
  {
   "cell_type": "code",
   "execution_count": 194,
   "id": "9ff25fb2-2409-4043-bfaa-6050e6239477",
   "metadata": {},
   "outputs": [
    {
     "name": "stdout",
     "output_type": "stream",
     "text": [
      "<class 'pandas.core.frame.DataFrame'>\n",
      "RangeIndex: 891 entries, 0 to 890\n",
      "Data columns (total 10 columns):\n",
      " #   Column            Non-Null Count  Dtype  \n",
      "---  ------            --------------  -----  \n",
      " 0   Pclass            891 non-null    int64  \n",
      " 1   Sex               891 non-null    object \n",
      " 2   Age               891 non-null    float64\n",
      " 3   SibSp             891 non-null    int64  \n",
      " 4   Parch             891 non-null    int64  \n",
      " 5   Ticket            891 non-null    object \n",
      " 6   Fare              891 non-null    float64\n",
      " 7   Embarked          891 non-null    object \n",
      " 8   relative          891 non-null    int64  \n",
      " 9   Travelling Alone  891 non-null    int64  \n",
      "dtypes: float64(2), int64(5), object(3)\n",
      "memory usage: 69.7+ KB\n"
     ]
    }
   ],
   "source": [
    "features.info()"
   ]
  },
  {
   "cell_type": "code",
   "execution_count": 195,
   "id": "c96685b8-9a28-4b04-8ce8-6d1379ebd90b",
   "metadata": {},
   "outputs": [
    {
     "name": "stdout",
     "output_type": "stream",
     "text": [
      "<class 'pandas.core.frame.DataFrame'>\n",
      "RangeIndex: 891 entries, 0 to 890\n",
      "Data columns (total 11 columns):\n",
      " #   Column            Non-Null Count  Dtype  \n",
      "---  ------            --------------  -----  \n",
      " 0   Travelling Alone  891 non-null    int64  \n",
      " 1   Embarked_C        891 non-null    uint8  \n",
      " 2   Embarked_Q        891 non-null    uint8  \n",
      " 3   Embarked_S        891 non-null    uint8  \n",
      " 4   Pclass_1          891 non-null    uint8  \n",
      " 5   Pclass_2          891 non-null    uint8  \n",
      " 6   Pclass_3          891 non-null    uint8  \n",
      " 7   Age               891 non-null    float64\n",
      " 8   Fare              891 non-null    float64\n",
      " 9   relative          891 non-null    float64\n",
      " 10  Sex_2             891 non-null    int64  \n",
      "dtypes: float64(3), int64(2), uint8(6)\n",
      "memory usage: 40.2 KB\n"
     ]
    }
   ],
   "source": [
    "X.info()"
   ]
  },
  {
   "cell_type": "code",
   "execution_count": 196,
   "id": "8cf7f302-b805-41e1-84fe-faf51e751007",
   "metadata": {},
   "outputs": [],
   "source": [
    "import seaborn as sns"
   ]
  },
  {
   "cell_type": "code",
   "execution_count": 197,
   "id": "28da4e7e-58d7-460c-8b00-33c114ddfef5",
   "metadata": {},
   "outputs": [
    {
     "name": "stderr",
     "output_type": "stream",
     "text": [
      "C:\\Users\\swata\\anaconda3\\envs\\alpha\\lib\\site-packages\\seaborn\\categorical.py:3717: UserWarning: The `factorplot` function has been renamed to `catplot`. The original name will be removed in a future release. Please update your code. Note that the default `kind` in `factorplot` (`'point'`) has changed `'strip'` in `catplot`.\n",
      "  warnings.warn(msg)\n"
     ]
    },
    {
     "data": {
      "text/plain": [
       "<seaborn.axisgrid.FacetGrid at 0x1f2d6fb6d60>"
      ]
     },
     "execution_count": 197,
     "metadata": {},
     "output_type": "execute_result"
    },
    {
     "data": {
      "image/png": "[encoded data removed]",
      "text/plain": [
       "<Figure size 360x360 with 1 Axes>"
      ]
     },
     "metadata": {
      "needs_background": "light"
     },
     "output_type": "display_data"
    }
   ],
   "source": [
    "sns.factorplot(x=\"SibSp\",y=\"Survived\",data=data)"
   ]
  },
  {
   "cell_type": "code",
   "execution_count": 198,
   "id": "1a56eeab-67a7-4005-9757-b5691c19f2b4",
   "metadata": {},
   "outputs": [
    {
     "name": "stderr",
     "output_type": "stream",
     "text": [
      "C:\\Users\\swata\\anaconda3\\envs\\alpha\\lib\\site-packages\\seaborn\\categorical.py:3717: UserWarning: The `factorplot` function has been renamed to `catplot`. The original name will be removed in a future release. Please update your code. Note that the default `kind` in `factorplot` (`'point'`) has changed `'strip'` in `catplot`.\n",
      "  warnings.warn(msg)\n"
     ]
    },
    {
     "data": {
      "text/plain": [
       "<seaborn.axisgrid.FacetGrid at 0x1f2d6f85610>"
      ]
     },
     "execution_count": 198,
     "metadata": {},
     "output_type": "execute_result"
    },
    {
     "data": {
      "image/png": "[encoded data removed]",
      "text/plain": [
       "<Figure size 360x360 with 1 Axes>"
      ]
     },
     "metadata": {
      "needs_background": "light"
     },
     "output_type": "display_data"
    }
   ],
   "source": [
    "sns.factorplot(x=\"Parch\",y=\"Survived\",data=data)"
   ]
  },
  {
   "cell_type": "code",
   "execution_count": 199,
   "id": "bc74be3d-57f4-4e7d-9582-ecb201e70dad",
   "metadata": {},
   "outputs": [
    {
     "name": "stderr",
     "output_type": "stream",
     "text": [
      "C:\\Users\\swata\\anaconda3\\envs\\alpha\\lib\\site-packages\\seaborn\\categorical.py:3717: UserWarning: The `factorplot` function has been renamed to `catplot`. The original name will be removed in a future release. Please update your code. Note that the default `kind` in `factorplot` (`'point'`) has changed `'strip'` in `catplot`.\n",
      "  warnings.warn(msg)\n"
     ]
    },
    {
     "data": {
      "text/plain": [
       "<seaborn.axisgrid.FacetGrid at 0x1f2d647ea00>"
      ]
     },
     "execution_count": 199,
     "metadata": {},
     "output_type": "execute_result"
    },
    {
     "data": {
      "image/png": "[encoded data removed]",
      "text/plain": [
       "<Figure size 360x360 with 1 Axes>"
      ]
     },
     "metadata": {
      "needs_background": "light"
     },
     "output_type": "display_data"
    }
   ],
   "source": [
    "sns.factorplot(x=\"Embarked\",y=\"Survived\",data=data)"
   ]
  },
  {
   "cell_type": "code",
   "execution_count": 200,
   "id": "30c0e8cd-1dc3-4352-9f7c-6764dc399ddd",
   "metadata": {},
   "outputs": [],
   "source": [
    "from sklearn.preprocessing import OneHotEncoder"
   ]
  },
  {
   "cell_type": "code",
   "execution_count": 201,
   "id": "3bbd9ca5-b153-4540-95ce-01bc95a78349",
   "metadata": {},
   "outputs": [],
   "source": [
    "tyu=OneHotEncoder()"
   ]
  },
  {
   "cell_type": "code",
   "execution_count": 205,
   "id": "73636546-eeb1-4386-9c98-ae3e5cf3ba94",
   "metadata": {},
   "outputs": [],
   "source": [
    "X=features.copy()"
   ]
  },
  {
   "cell_type": "code",
   "execution_count": 206,
   "id": "644d9bc9-a260-4e04-a3fc-7656b1423c7d",
   "metadata": {},
   "outputs": [],
   "source": [
    "X=pd.get_dummies(X,columns=[\"Embarked\"])"
   ]
  },
  {
   "cell_type": "code",
   "execution_count": 207,
   "id": "3f15497b-fbcd-49d5-9653-e47c3ccca6ad",
   "metadata": {},
   "outputs": [],
   "source": [
    "XY=pd.get_dummies(X,columns=[\"Pclass\"])"
   ]
  },
  {
   "cell_type": "code",
   "execution_count": 208,
   "id": "15fa4b2a-fae1-4e51-8332-b30fe2c413f1",
   "metadata": {},
   "outputs": [],
   "source": [
    "XY.drop([\"SibSp\",\"Parch\"],inplace=True,axis=1)"
   ]
  },
  {
   "cell_type": "code",
   "execution_count": 209,
   "id": "6734639c-8543-4650-b743-b58d59f7538d",
   "metadata": {},
   "outputs": [],
   "source": [
    "X.drop(\"Ticket\",inplace=True,axis=1)"
   ]
  },
  {
   "cell_type": "code",
   "execution_count": 210,
   "id": "addf746a-b9d1-44d8-b866-c1df44184bef",
   "metadata": {},
   "outputs": [
    {
     "data": {
      "text/plain": [
       "3    491\n",
       "1    216\n",
       "2    184\n",
       "Name: Pclass, dtype: int64"
      ]
     },
     "execution_count": 210,
     "metadata": {},
     "output_type": "execute_result"
    }
   ],
   "source": [
    "X.Pclass.value_counts()"
   ]
  },
  {
   "cell_type": "code",
   "execution_count": 211,
   "id": "15863f83-78cc-4cb1-a52c-27c0b0354c1c",
   "metadata": {},
   "outputs": [
    {
     "name": "stdout",
     "output_type": "stream",
     "text": [
      "<class 'pandas.core.frame.DataFrame'>\n",
      "RangeIndex: 891 entries, 0 to 890\n",
      "Data columns (total 12 columns):\n",
      " #   Column            Non-Null Count  Dtype  \n",
      "---  ------            --------------  -----  \n",
      " 0   Sex               891 non-null    object \n",
      " 1   Age               891 non-null    float64\n",
      " 2   Ticket            891 non-null    object \n",
      " 3   Fare              891 non-null    float64\n",
      " 4   relative          891 non-null    int64  \n",
      " 5   Travelling Alone  891 non-null    int64  \n",
      " 6   Embarked_C        891 non-null    uint8  \n",
      " 7   Embarked_Q        891 non-null    uint8  \n",
      " 8   Embarked_S        891 non-null    uint8  \n",
      " 9   Pclass_1          891 non-null    uint8  \n",
      " 10  Pclass_2          891 non-null    uint8  \n",
      " 11  Pclass_3          891 non-null    uint8  \n",
      "dtypes: float64(2), int64(2), object(2), uint8(6)\n",
      "memory usage: 47.1+ KB\n"
     ]
    }
   ],
   "source": [
    "XY.info()"
   ]
  },
  {
   "cell_type": "code",
   "execution_count": 212,
   "id": "9e0ece72-868f-4816-a11a-03554714319f",
   "metadata": {},
   "outputs": [],
   "source": [
    "ss_data=[\"Age\",\"Fare\",\"relative\"]"
   ]
  },
  {
   "cell_type": "code",
   "execution_count": 213,
   "id": "be00ccf5-0a3c-4fda-806b-578deae085b4",
   "metadata": {},
   "outputs": [],
   "source": [
    "feta=XY[ss_data]"
   ]
  },
  {
   "cell_type": "code",
   "execution_count": 214,
   "id": "7c20c5cd-9d9a-44c1-886a-10306fcfd48a",
   "metadata": {},
   "outputs": [],
   "source": [
    "scaler=StandardScaler()\n",
    "ty=scaler.fit_transform(feta)"
   ]
  },
  {
   "cell_type": "code",
   "execution_count": 215,
   "id": "a46c2e05-1df5-488d-bbb1-87c6851b6047",
   "metadata": {},
   "outputs": [],
   "source": [
    "scaled_features = pd.DataFrame(ty, columns = ss_data)"
   ]
  },
  {
   "cell_type": "code",
   "execution_count": 216,
   "id": "e8eba877-aa8a-48a4-a094-4d6c12cced3d",
   "metadata": {},
   "outputs": [],
   "source": [
    "rem=XY.drop([\"Age\",\"Fare\",\"relative\"],axis=1)"
   ]
  },
  {
   "cell_type": "code",
   "execution_count": 217,
   "id": "6ea45997-b6bc-4e65-aa32-85451eaa5ea6",
   "metadata": {},
   "outputs": [],
   "source": [
    "rem[\"Age\"]=scaled_features[\"Age\"]\n",
    "rem[\"Fare\"]=scaled_features[\"Fare\"]\n",
    "rem[\"relative\"]=scaled_features[\"relative\"]"
   ]
  },
  {
   "cell_type": "code",
   "execution_count": null,
   "id": "d3c23c4f-5c5d-4269-8f78-3c83c0eeeec0",
   "metadata": {},
   "outputs": [],
   "source": []
  },
  {
   "cell_type": "code",
   "execution_count": 218,
   "id": "281d6d73-3ef6-45c1-bfcc-cb9c1ecb26c9",
   "metadata": {},
   "outputs": [],
   "source": [
    "X=rem.copy()\n",
    "age={\"male\":1,\"female\":0}\n",
    "\n",
    "X[\"Sex_2\"]=X[\"Sex\"].map(age)\n",
    "#X.drop(\"Sex\",axis=1,inplace=True)"
   ]
  },
  {
   "cell_type": "code",
   "execution_count": 222,
   "id": "d87ab337-62d0-404c-ab4e-50dbb312a363",
   "metadata": {},
   "outputs": [],
   "source": [
    "X.drop(\"Sex\",axis=1,inplace=True)"
   ]
  },
  {
   "cell_type": "code",
   "execution_count": 223,
   "id": "36158d4c-4bca-4e7c-9cb5-24593b71ff7c",
   "metadata": {},
   "outputs": [],
   "source": [
    "X.drop(\"Ticket\",axis=1,inplace=True)"
   ]
  },
  {
   "cell_type": "code",
   "execution_count": null,
   "id": "037b9b73-f37b-4354-bdc4-5351cc0b1539",
   "metadata": {},
   "outputs": [],
   "source": []
  },
  {
   "cell_type": "code",
   "execution_count": 245,
   "id": "089d7c71-fc62-4be1-b89f-0ea347ff5232",
   "metadata": {},
   "outputs": [
    {
     "data": {
      "text/plain": [
       "LogisticRegression()"
      ]
     },
     "execution_count": 245,
     "metadata": {},
     "output_type": "execute_result"
    }
   ],
   "source": [
    "lr.fit(X,target)"
   ]
  },
  {
   "cell_type": "code",
   "execution_count": 251,
   "id": "7af67835-4876-47a7-8209-4742c11c02dc",
   "metadata": {},
   "outputs": [],
   "source": [
    "tit=pd.read_csv(\"titanic.csv\")"
   ]
  },
  {
   "cell_type": "code",
   "execution_count": 268,
   "id": "3a5b88b7-cc4a-453b-b586-f58f3e0271a4",
   "metadata": {},
   "outputs": [],
   "source": [
    "test=tit.drop(\"Survived\",axis=1)\n",
    "result=tit[\"Survived\"]"
   ]
  },
  {
   "cell_type": "code",
   "execution_count": null,
   "id": "8b651bb7-3416-4ab5-a7e1-3a53b1096b96",
   "metadata": {},
   "outputs": [],
   "source": []
  },
  {
   "cell_type": "code",
   "execution_count": 253,
   "id": "a086e0db-db1c-4c01-958e-af9491a04801",
   "metadata": {},
   "outputs": [
    {
     "name": "stdout",
     "output_type": "stream",
     "text": [
      "<class 'pandas.core.frame.DataFrame'>\n",
      "RangeIndex: 418 entries, 0 to 417\n",
      "Data columns (total 11 columns):\n",
      " #   Column       Non-Null Count  Dtype  \n",
      "---  ------       --------------  -----  \n",
      " 0   PassengerId  418 non-null    int64  \n",
      " 1   Pclass       418 non-null    int64  \n",
      " 2   Name         418 non-null    object \n",
      " 3   Sex          418 non-null    object \n",
      " 4   Age          332 non-null    float64\n",
      " 5   SibSp        418 non-null    int64  \n",
      " 6   Parch        418 non-null    int64  \n",
      " 7   Ticket       418 non-null    object \n",
      " 8   Fare         417 non-null    float64\n",
      " 9   Cabin        91 non-null     object \n",
      " 10  Embarked     418 non-null    object \n",
      "dtypes: float64(2), int64(4), object(5)\n",
      "memory usage: 36.0+ KB\n"
     ]
    }
   ],
   "source": [
    "test.info()"
   ]
  },
  {
   "cell_type": "code",
   "execution_count": 269,
   "id": "3e9ac4c1-d8bc-49c8-89fa-4dd02cc224a9",
   "metadata": {},
   "outputs": [],
   "source": [
    "test.drop([\"PassengerId\",\"Name\",\"Ticket\",\"Cabin\"],axis=1,inplace=True)"
   ]
  },
  {
   "cell_type": "code",
   "execution_count": 270,
   "id": "5d9c8889-8b5d-4ddc-b6f1-e1efd957ae92",
   "metadata": {},
   "outputs": [],
   "source": [
    "k=test[\"Age\"]\n",
    "men=np.mean(k)\n",
    "zxx=test[\"Age\"].fillna(value=men,axis=0)"
   ]
  },
  {
   "cell_type": "code",
   "execution_count": 261,
   "id": "0fbe87e3-04e2-483d-b6c3-b13ec8f2447e",
   "metadata": {},
   "outputs": [
    {
     "data": {
      "text/plain": [
       "30.272590361445815"
      ]
     },
     "execution_count": 261,
     "metadata": {},
     "output_type": "execute_result"
    }
   ],
   "source": [
    "k=test[\"Age\"]\n",
    "np.mean(k)"
   ]
  },
  {
   "cell_type": "code",
   "execution_count": 276,
   "id": "e7715197-00ef-445b-abed-ccbd98fa93d7",
   "metadata": {},
   "outputs": [],
   "source": [
    "test[\"Age\"]=zxx"
   ]
  },
  {
   "cell_type": "code",
   "execution_count": 302,
   "id": "64a91855-a258-4a09-a334-1b800b272e27",
   "metadata": {},
   "outputs": [
    {
     "data": {
      "text/plain": [
       "False    332\n",
       "True      86\n",
       "Name: Age, dtype: int64"
      ]
     },
     "execution_count": 302,
     "metadata": {},
     "output_type": "execute_result"
    }
   ],
   "source": [
    "(test[\"Age\"]==men).value_counts()"
   ]
  },
  {
   "cell_type": "code",
   "execution_count": null,
   "id": "4abb8ceb-585f-4304-bf53-68510b50b7d3",
   "metadata": {},
   "outputs": [],
   "source": []
  },
  {
   "cell_type": "code",
   "execution_count": 304,
   "id": "2744b670-8c90-49b6-b521-42b48d3bd140",
   "metadata": {},
   "outputs": [
    {
     "data": {
      "text/plain": [
       "30.27259    86\n",
       "24.00000    17\n",
       "21.00000    17\n",
       "22.00000    16\n",
       "30.00000    15\n",
       "            ..\n",
       "76.00000     1\n",
       "28.50000     1\n",
       "22.50000     1\n",
       "62.00000     1\n",
       "38.50000     1\n",
       "Name: Age, Length: 80, dtype: int64"
      ]
     },
     "execution_count": 304,
     "metadata": {},
     "output_type": "execute_result"
    }
   ],
   "source": [
    "test.Age.value_counts()"
   ]
  },
  {
   "cell_type": "code",
   "execution_count": 280,
   "id": "98ba4e62-5955-452a-a050-fe25a70bdce9",
   "metadata": {},
   "outputs": [],
   "source": [
    "k=test[\"Fare\"]\n",
    "my=np.mean(k)\n",
    "zxx=test[\"Fare\"].fillna(value=my,axis=0)"
   ]
  },
  {
   "cell_type": "code",
   "execution_count": 233,
   "id": "0ea10d78-1823-4be7-91f8-4526f46e4ded",
   "metadata": {},
   "outputs": [],
   "source": [
    "test.drop([\"Cabin\"],axis=1,inplace=True)"
   ]
  },
  {
   "cell_type": "code",
   "execution_count": 281,
   "id": "e5c053a8-bde1-4f40-b901-62e3db906d1d",
   "metadata": {},
   "outputs": [],
   "source": [
    "test[\"Fare\"]=zxx"
   ]
  },
  {
   "cell_type": "code",
   "execution_count": 282,
   "id": "86e9ba34-be5f-4144-8ab4-f0b9112f960d",
   "metadata": {},
   "outputs": [
    {
     "data": {
      "text/plain": [
       "False    417\n",
       "True       1\n",
       "Name: Fare, dtype: int64"
      ]
     },
     "execution_count": 282,
     "metadata": {},
     "output_type": "execute_result"
    }
   ],
   "source": []
  },
  {
   "cell_type": "code",
   "execution_count": 283,
   "id": "08a02e40-6dc0-4a34-9c81-0c98c69a20f1",
   "metadata": {},
   "outputs": [],
   "source": [
    "test[\"relative\"]=test[\"SibSp\"]+test[\"Parch\"]\n",
    "def alone(x):\n",
    "    if(x>0):\n",
    "        return 0\n",
    "    else:\n",
    "        return 1\n",
    "test[\"Travelling Alone\"]=test[\"relative\"].apply(alone)"
   ]
  },
  {
   "cell_type": "code",
   "execution_count": null,
   "id": "977460b4-e2c8-4af2-bc2a-69015dadf0ff",
   "metadata": {},
   "outputs": [],
   "source": []
  },
  {
   "cell_type": "code",
   "execution_count": 284,
   "id": "03404a85-83e3-41cc-99ae-eb90d960ca90",
   "metadata": {},
   "outputs": [],
   "source": [
    "test.drop([\"SibSp\",\"Parch\"],axis=1,inplace=True)"
   ]
  },
  {
   "cell_type": "code",
   "execution_count": 285,
   "id": "fb7f7d90-7517-447f-b839-2d6045c4e718",
   "metadata": {},
   "outputs": [],
   "source": [
    "X_2=test.copy()\n",
    "age={\"male\":1,\"female\":0}\n",
    "\n",
    "X_2[\"Sex_2\"]=X_2[\"Sex\"].map(age)\n",
    "X_2.drop(\"Sex\",axis=1,inplace=True)"
   ]
  },
  {
   "cell_type": "code",
   "execution_count": 305,
   "id": "302e5870-1761-41a9-af99-ea05e1ee7b1c",
   "metadata": {},
   "outputs": [
    {
     "data": {
      "text/plain": [
       "30.27259    86\n",
       "24.00000    17\n",
       "21.00000    17\n",
       "22.00000    16\n",
       "30.00000    15\n",
       "            ..\n",
       "76.00000     1\n",
       "28.50000     1\n",
       "22.50000     1\n",
       "62.00000     1\n",
       "38.50000     1\n",
       "Name: Age, Length: 80, dtype: int64"
      ]
     },
     "execution_count": 305,
     "metadata": {},
     "output_type": "execute_result"
    }
   ],
   "source": []
  },
  {
   "cell_type": "code",
   "execution_count": 286,
   "id": "b9d19e5b-ef29-4012-b623-05f55a27b788",
   "metadata": {},
   "outputs": [
    {
     "name": "stdout",
     "output_type": "stream",
     "text": [
      "<class 'pandas.core.frame.DataFrame'>\n",
      "RangeIndex: 418 entries, 0 to 417\n",
      "Data columns (total 7 columns):\n",
      " #   Column            Non-Null Count  Dtype  \n",
      "---  ------            --------------  -----  \n",
      " 0   Pclass            418 non-null    int64  \n",
      " 1   Age               418 non-null    float64\n",
      " 2   Fare              418 non-null    float64\n",
      " 3   Embarked          418 non-null    object \n",
      " 4   relative          418 non-null    int64  \n",
      " 5   Travelling Alone  418 non-null    int64  \n",
      " 6   Sex_2             418 non-null    int64  \n",
      "dtypes: float64(2), int64(4), object(1)\n",
      "memory usage: 23.0+ KB\n"
     ]
    }
   ],
   "source": [
    "X_2.info()\n"
   ]
  },
  {
   "cell_type": "code",
   "execution_count": 287,
   "id": "896902a3-5f83-4996-a88b-7cdccf629bc8",
   "metadata": {},
   "outputs": [
    {
     "name": "stdout",
     "output_type": "stream",
     "text": [
      "<class 'pandas.core.frame.DataFrame'>\n",
      "RangeIndex: 891 entries, 0 to 890\n",
      "Data columns (total 11 columns):\n",
      " #   Column            Non-Null Count  Dtype  \n",
      "---  ------            --------------  -----  \n",
      " 0   Travelling Alone  891 non-null    int64  \n",
      " 1   Embarked_C        891 non-null    uint8  \n",
      " 2   Embarked_Q        891 non-null    uint8  \n",
      " 3   Embarked_S        891 non-null    uint8  \n",
      " 4   Pclass_1          891 non-null    uint8  \n",
      " 5   Pclass_2          891 non-null    uint8  \n",
      " 6   Pclass_3          891 non-null    uint8  \n",
      " 7   Age               891 non-null    float64\n",
      " 8   Fare              891 non-null    float64\n",
      " 9   relative          891 non-null    float64\n",
      " 10  Sex_2             891 non-null    int64  \n",
      "dtypes: float64(3), int64(2), uint8(6)\n",
      "memory usage: 40.2 KB\n"
     ]
    }
   ],
   "source": [
    "X.info()"
   ]
  },
  {
   "cell_type": "code",
   "execution_count": 288,
   "id": "8eb1c212-8961-4b6a-a882-e2bd2934f6d4",
   "metadata": {},
   "outputs": [],
   "source": [
    "X_2=pd.get_dummies(X_2,columns=[\"Embarked\"])\n",
    "X_2=pd.get_dummies(X_2,columns=[\"Pclass\"])"
   ]
  },
  {
   "cell_type": "code",
   "execution_count": 289,
   "id": "5ff82afa-69b2-4958-ba89-321c3d09727d",
   "metadata": {},
   "outputs": [],
   "source": [
    "ss_data=[\"Age\",\"Fare\",\"relative\"]\n",
    "feta=X_2[ss_data]\n",
    "ty=scaler.fit_transform(feta)\n",
    "scaled_features_test = pd.DataFrame(ty, columns = ss_data)"
   ]
  },
  {
   "cell_type": "code",
   "execution_count": 290,
   "id": "0bda085a-48c5-4a00-9b42-8ee3c353b62a",
   "metadata": {},
   "outputs": [],
   "source": [
    "rem=X_2.drop([\"Age\",\"Fare\",\"relative\"],axis=1)\n",
    "rem[\"Age\"]=scaled_features_test[\"Age\"]\n",
    "rem[\"Fare\"]=scaled_features_test[\"Fare\"]\n",
    "rem[\"relative\"]=scaled_features_test[\"relative\"]"
   ]
  },
  {
   "cell_type": "code",
   "execution_count": 291,
   "id": "0eeded76-89ef-4f42-8dc9-01352ecfaa91",
   "metadata": {},
   "outputs": [
    {
     "data": {
      "text/html": [
       "<div>\n",
       "<style scoped>\n",
       "    .dataframe tbody tr th:only-of-type {\n",
       "        vertical-align: middle;\n",
       "    }\n",
       "\n",
       "    .dataframe tbody tr th {\n",
       "        vertical-align: top;\n",
       "    }\n",
       "\n",
       "    .dataframe thead th {\n",
       "        text-align: right;\n",
       "    }\n",
       "</style>\n",
       "<table border=\"1\" class=\"dataframe\">\n",
       "  <thead>\n",
       "    <tr style=\"text-align: right;\">\n",
       "      <th></th>\n",
       "      <th>Travelling Alone</th>\n",
       "      <th>Sex_2</th>\n",
       "      <th>Embarked_C</th>\n",
       "      <th>Embarked_Q</th>\n",
       "      <th>Embarked_S</th>\n",
       "      <th>Pclass_1</th>\n",
       "      <th>Pclass_2</th>\n",
       "      <th>Pclass_3</th>\n",
       "      <th>Age</th>\n",
       "      <th>Fare</th>\n",
       "      <th>relative</th>\n",
       "    </tr>\n",
       "  </thead>\n",
       "  <tbody>\n",
       "    <tr>\n",
       "      <th>count</th>\n",
       "      <td>418.000000</td>\n",
       "      <td>418.000000</td>\n",
       "      <td>418.000000</td>\n",
       "      <td>418.000000</td>\n",
       "      <td>418.000000</td>\n",
       "      <td>418.000000</td>\n",
       "      <td>418.000000</td>\n",
       "      <td>418.000000</td>\n",
       "      <td>4.180000e+02</td>\n",
       "      <td>4.180000e+02</td>\n",
       "      <td>4.180000e+02</td>\n",
       "    </tr>\n",
       "    <tr>\n",
       "      <th>mean</th>\n",
       "      <td>0.605263</td>\n",
       "      <td>0.636364</td>\n",
       "      <td>0.244019</td>\n",
       "      <td>0.110048</td>\n",
       "      <td>0.645933</td>\n",
       "      <td>0.255981</td>\n",
       "      <td>0.222488</td>\n",
       "      <td>0.521531</td>\n",
       "      <td>1.328018e-17</td>\n",
       "      <td>-2.808758e-17</td>\n",
       "      <td>-6.374486e-17</td>\n",
       "    </tr>\n",
       "    <tr>\n",
       "      <th>std</th>\n",
       "      <td>0.489380</td>\n",
       "      <td>0.481622</td>\n",
       "      <td>0.430019</td>\n",
       "      <td>0.313324</td>\n",
       "      <td>0.478803</td>\n",
       "      <td>0.436934</td>\n",
       "      <td>0.416416</td>\n",
       "      <td>0.500135</td>\n",
       "      <td>1.001198e+00</td>\n",
       "      <td>1.001198e+00</td>\n",
       "      <td>1.001198e+00</td>\n",
       "    </tr>\n",
       "    <tr>\n",
       "      <th>min</th>\n",
       "      <td>0.000000</td>\n",
       "      <td>0.000000</td>\n",
       "      <td>0.000000</td>\n",
       "      <td>0.000000</td>\n",
       "      <td>0.000000</td>\n",
       "      <td>0.000000</td>\n",
       "      <td>0.000000</td>\n",
       "      <td>0.000000</td>\n",
       "      <td>-2.385419e+00</td>\n",
       "      <td>-6.387815e-01</td>\n",
       "      <td>-5.534426e-01</td>\n",
       "    </tr>\n",
       "    <tr>\n",
       "      <th>25%</th>\n",
       "      <td>0.000000</td>\n",
       "      <td>0.000000</td>\n",
       "      <td>0.000000</td>\n",
       "      <td>0.000000</td>\n",
       "      <td>0.000000</td>\n",
       "      <td>0.000000</td>\n",
       "      <td>0.000000</td>\n",
       "      <td>0.000000</td>\n",
       "      <td>-5.763018e-01</td>\n",
       "      <td>-4.972129e-01</td>\n",
       "      <td>-5.534426e-01</td>\n",
       "    </tr>\n",
       "    <tr>\n",
       "      <th>50%</th>\n",
       "      <td>1.000000</td>\n",
       "      <td>1.000000</td>\n",
       "      <td>0.000000</td>\n",
       "      <td>0.000000</td>\n",
       "      <td>1.000000</td>\n",
       "      <td>0.000000</td>\n",
       "      <td>0.000000</td>\n",
       "      <td>1.000000</td>\n",
       "      <td>0.000000e+00</td>\n",
       "      <td>-3.796234e-01</td>\n",
       "      <td>-5.534426e-01</td>\n",
       "    </tr>\n",
       "    <tr>\n",
       "      <th>75%</th>\n",
       "      <td>1.000000</td>\n",
       "      <td>1.000000</td>\n",
       "      <td>0.000000</td>\n",
       "      <td>0.000000</td>\n",
       "      <td>1.000000</td>\n",
       "      <td>1.000000</td>\n",
       "      <td>0.000000</td>\n",
       "      <td>1.000000</td>\n",
       "      <td>4.340463e-01</td>\n",
       "      <td>-7.399887e-02</td>\n",
       "      <td>1.056429e-01</td>\n",
       "    </tr>\n",
       "    <tr>\n",
       "      <th>max</th>\n",
       "      <td>1.000000</td>\n",
       "      <td>1.000000</td>\n",
       "      <td>1.000000</td>\n",
       "      <td>1.000000</td>\n",
       "      <td>1.000000</td>\n",
       "      <td>1.000000</td>\n",
       "      <td>1.000000</td>\n",
       "      <td>1.000000</td>\n",
       "      <td>3.623577e+00</td>\n",
       "      <td>8.547081e+00</td>\n",
       "      <td>6.037412e+00</td>\n",
       "    </tr>\n",
       "  </tbody>\n",
       "</table>\n",
       "</div>"
      ],
      "text/plain": [
       "       Travelling Alone       Sex_2  Embarked_C  Embarked_Q  Embarked_S  \\\n",
       "count        418.000000  418.000000  418.000000  418.000000  418.000000   \n",
       "mean           0.605263    0.636364    0.244019    0.110048    0.645933   \n",
       "std            0.489380    0.481622    0.430019    0.313324    0.478803   \n",
       "min            0.000000    0.000000    0.000000    0.000000    0.000000   \n",
       "25%            0.000000    0.000000    0.000000    0.000000    0.000000   \n",
       "50%            1.000000    1.000000    0.000000    0.000000    1.000000   \n",
       "75%            1.000000    1.000000    0.000000    0.000000    1.000000   \n",
       "max            1.000000    1.000000    1.000000    1.000000    1.000000   \n",
       "\n",
       "         Pclass_1    Pclass_2    Pclass_3           Age          Fare  \\\n",
       "count  418.000000  418.000000  418.000000  4.180000e+02  4.180000e+02   \n",
       "mean     0.255981    0.222488    0.521531  1.328018e-17 -2.808758e-17   \n",
       "std      0.436934    0.416416    0.500135  1.001198e+00  1.001198e+00   \n",
       "min      0.000000    0.000000    0.000000 -2.385419e+00 -6.387815e-01   \n",
       "25%      0.000000    0.000000    0.000000 -5.763018e-01 -4.972129e-01   \n",
       "50%      0.000000    0.000000    1.000000  0.000000e+00 -3.796234e-01   \n",
       "75%      1.000000    0.000000    1.000000  4.340463e-01 -7.399887e-02   \n",
       "max      1.000000    1.000000    1.000000  3.623577e+00  8.547081e+00   \n",
       "\n",
       "           relative  \n",
       "count  4.180000e+02  \n",
       "mean  -6.374486e-17  \n",
       "std    1.001198e+00  \n",
       "min   -5.534426e-01  \n",
       "25%   -5.534426e-01  \n",
       "50%   -5.534426e-01  \n",
       "75%    1.056429e-01  \n",
       "max    6.037412e+00  "
      ]
     },
     "execution_count": 291,
     "metadata": {},
     "output_type": "execute_result"
    }
   ],
   "source": [
    "rem.describe()"
   ]
  },
  {
   "cell_type": "code",
   "execution_count": 294,
   "id": "f72b6143-832a-4411-83b2-c9f17387ff79",
   "metadata": {},
   "outputs": [
    {
     "name": "stdout",
     "output_type": "stream",
     "text": [
      "<class 'pandas.core.frame.DataFrame'>\n",
      "RangeIndex: 418 entries, 0 to 417\n",
      "Data columns (total 11 columns):\n",
      " #   Column            Non-Null Count  Dtype  \n",
      "---  ------            --------------  -----  \n",
      " 0   Travelling Alone  418 non-null    int64  \n",
      " 1   Sex_2             418 non-null    int64  \n",
      " 2   Embarked_C        418 non-null    uint8  \n",
      " 3   Embarked_Q        418 non-null    uint8  \n",
      " 4   Embarked_S        418 non-null    uint8  \n",
      " 5   Pclass_1          418 non-null    uint8  \n",
      " 6   Pclass_2          418 non-null    uint8  \n",
      " 7   Pclass_3          418 non-null    uint8  \n",
      " 8   Age               418 non-null    float64\n",
      " 9   Fare              418 non-null    float64\n",
      " 10  relative          418 non-null    float64\n",
      "dtypes: float64(3), int64(2), uint8(6)\n",
      "memory usage: 18.9 KB\n"
     ]
    }
   ],
   "source": [
    "rem.info()"
   ]
  },
  {
   "cell_type": "code",
   "execution_count": 295,
   "id": "e0be8e2c-d635-4115-9f3d-21cc35a69b67",
   "metadata": {},
   "outputs": [],
   "source": [
    "rem=rem.iloc[:,[0,2,3,4,5,6,7,8,9,10,1]]"
   ]
  },
  {
   "cell_type": "code",
   "execution_count": 293,
   "id": "9e961a38-18cd-4276-bcbc-2ca66d118eec",
   "metadata": {},
   "outputs": [
    {
     "name": "stdout",
     "output_type": "stream",
     "text": [
      "<class 'pandas.core.frame.DataFrame'>\n",
      "RangeIndex: 891 entries, 0 to 890\n",
      "Data columns (total 11 columns):\n",
      " #   Column            Non-Null Count  Dtype  \n",
      "---  ------            --------------  -----  \n",
      " 0   Travelling Alone  891 non-null    int64  \n",
      " 1   Embarked_C        891 non-null    uint8  \n",
      " 2   Embarked_Q        891 non-null    uint8  \n",
      " 3   Embarked_S        891 non-null    uint8  \n",
      " 4   Pclass_1          891 non-null    uint8  \n",
      " 5   Pclass_2          891 non-null    uint8  \n",
      " 6   Pclass_3          891 non-null    uint8  \n",
      " 7   Age               891 non-null    float64\n",
      " 8   Fare              891 non-null    float64\n",
      " 9   relative          891 non-null    float64\n",
      " 10  Sex_2             891 non-null    int64  \n",
      "dtypes: float64(3), int64(2), uint8(6)\n",
      "memory usage: 40.2 KB\n"
     ]
    }
   ],
   "source": [
    "X.info()"
   ]
  },
  {
   "cell_type": "code",
   "execution_count": 296,
   "id": "52a1a777-09f4-435a-a462-e2f3db3abe1b",
   "metadata": {},
   "outputs": [],
   "source": [
    "pred_lr=lr.predict(rem)"
   ]
  },
  {
   "cell_type": "code",
   "execution_count": null,
   "id": "9c58bacb-2643-4c87-bad3-a5ef49546413",
   "metadata": {},
   "outputs": [],
   "source": []
  },
  {
   "cell_type": "code",
   "execution_count": 114,
   "id": "93327b33-5f0b-4cca-bf06-02b64a886945",
   "metadata": {},
   "outputs": [],
   "source": [
    "from sklearn.metrics import accuracy_score"
   ]
  },
  {
   "cell_type": "code",
   "execution_count": 115,
   "id": "79ba5d11-9cce-4afe-a223-06bee2f3d7f7",
   "metadata": {},
   "outputs": [],
   "source": [
    "accuracy_record=[]"
   ]
  },
  {
   "cell_type": "code",
   "execution_count": 297,
   "id": "2bc6b2ac-0022-4584-902e-dc7ca4e34201",
   "metadata": {},
   "outputs": [
    {
     "name": "stdout",
     "output_type": "stream",
     "text": [
      "0.937799043062201\n"
     ]
    }
   ],
   "source": [
    "print(accuracy_score(result,pred_lr))"
   ]
  },
  {
   "cell_type": "markdown",
   "id": "e4b2fc14-049e-4761-83a3-9800425d270e",
   "metadata": {},
   "source": [
    "### Storing train and test dataset after all preprocessing "
   ]
  },
  {
   "cell_type": "code",
   "execution_count": 298,
   "id": "afc51f8e-427b-4818-b31d-d17915eb6094",
   "metadata": {},
   "outputs": [],
   "source": [
    "\n",
    "Final_test_data=rem.copy()"
   ]
  },
  {
   "cell_type": "code",
   "execution_count": null,
   "id": "e0a321b1-68b8-4df2-b91a-806ec5a19534",
   "metadata": {},
   "outputs": [],
   "source": []
  },
  {
   "cell_type": "code",
   "execution_count": 299,
   "id": "d592cdfb-9419-478d-a415-4f968144c1f4",
   "metadata": {},
   "outputs": [],
   "source": [
    "Final_test_data[\"Survived\"]=result"
   ]
  },
  {
   "cell_type": "code",
   "execution_count": 300,
   "id": "b261028c-c22e-4950-a9ad-c2b816fb40f6",
   "metadata": {},
   "outputs": [],
   "source": [
    "\n",
    "Final_test_data.to_csv(\"Final_test_data.csv\",index=False)"
   ]
  },
  {
   "cell_type": "code",
   "execution_count": 225,
   "id": "fbb4828b-620d-4919-ac24-940ac9fa29ef",
   "metadata": {},
   "outputs": [],
   "source": [
    "Final_train_data=X.copy()\n",
    "Final_train_data[\"Survived\"]=target\n",
    "Final_train_data.to_csv(\"Final_train_data.csv\",index=False)\n"
   ]
  },
  {
   "cell_type": "code",
   "execution_count": null,
   "id": "28cf900b-68bd-400d-9d96-738cfedfbaa0",
   "metadata": {},
   "outputs": [],
   "source": []
  }
 ],
 "metadata": {
  "kernelspec": {
   "display_name": "Python 3 (ipykernel)",
   "language": "python",
   "name": "python3"
  },
  "language_info": {
   "codemirror_mode": {
    "name": "ipython",
    "version": 3
   },
   "file_extension": ".py",
   "mimetype": "text/x-python",
   "name": "python",
   "nbconvert_exporter": "python",
   "pygments_lexer": "ipython3",
   "version": "3.9.7"
  }
 },
 "nbformat": 4,
 "nbformat_minor": 5
}
